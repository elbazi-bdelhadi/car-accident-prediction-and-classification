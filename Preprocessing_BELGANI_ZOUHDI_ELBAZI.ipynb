{
 "cells": [
  {
   "cell_type": "code",
   "execution_count": 63,
   "id": "b9b59932",
   "metadata": {},
   "outputs": [],
   "source": [
    "import pandas as pd \n",
    "import numpy as np\n",
    "import missingno as msno\n",
    "import matplotlib.pyplot as plt\n",
    "import seaborn as sns\n",
    "import plotly.express as px\n",
    "import math\n",
    "%matplotlib inline\n",
    "pd.set_option('display.float_format', lambda x: '%.5f' % x)"
   ]
  },
  {
   "cell_type": "code",
   "execution_count": 64,
   "id": "40100ba4",
   "metadata": {},
   "outputs": [],
   "source": [
    "#Read the csv file as dataframe\n",
    "df = pd.read_csv(\"E:\\\\Downloads\\\\US_Accidents_Dec21_updated.csv\")"
   ]
  },
  {
   "cell_type": "code",
   "execution_count": 67,
   "id": "f73a1449",
   "metadata": {},
   "outputs": [
    {
     "data": {
      "image/png": "[encoded data removed]",
      "text/plain": [
       "<Figure size 1440x720 with 1 Axes>"
      ]
     },
     "metadata": {
      "needs_background": "light"
     },
     "output_type": "display_data"
    }
   ],
   "source": [
    "sns.countplot(x='Year', hue='Severity', data=df ,palette=\"Set2\")\n",
    "plt.title('Count of Accidents by Year (resampled data)', size=15, y=1.05)\n",
    "plt.gcf().set_size_inches(20, 10)\n",
    "plt.show()"
   ]
  },
  {
   "cell_type": "code",
   "execution_count": 3,
   "id": "8c1d2f95",
   "metadata": {
    "scrolled": true
   },
   "outputs": [
    {
     "data": {
      "text/html": [
       "<div>\n",
       "<style scoped>\n",
       "    .dataframe tbody tr th:only-of-type {\n",
       "        vertical-align: middle;\n",
       "    }\n",
       "\n",
       "    .dataframe tbody tr th {\n",
       "        vertical-align: top;\n",
       "    }\n",
       "\n",
       "    .dataframe thead th {\n",
       "        text-align: right;\n",
       "    }\n",
       "</style>\n",
       "<table border=\"1\" class=\"dataframe\">\n",
       "  <thead>\n",
       "    <tr style=\"text-align: right;\">\n",
       "      <th></th>\n",
       "      <th>ID</th>\n",
       "      <th>Severity</th>\n",
       "      <th>Start_Time</th>\n",
       "      <th>End_Time</th>\n",
       "      <th>Start_Lat</th>\n",
       "      <th>Start_Lng</th>\n",
       "      <th>End_Lat</th>\n",
       "      <th>End_Lng</th>\n",
       "      <th>Distance(mi)</th>\n",
       "      <th>Description</th>\n",
       "      <th>...</th>\n",
       "      <th>Roundabout</th>\n",
       "      <th>Station</th>\n",
       "      <th>Stop</th>\n",
       "      <th>Traffic_Calming</th>\n",
       "      <th>Traffic_Signal</th>\n",
       "      <th>Turning_Loop</th>\n",
       "      <th>Sunrise_Sunset</th>\n",
       "      <th>Civil_Twilight</th>\n",
       "      <th>Nautical_Twilight</th>\n",
       "      <th>Astronomical_Twilight</th>\n",
       "    </tr>\n",
       "  </thead>\n",
       "  <tbody>\n",
       "    <tr>\n",
       "      <th>0</th>\n",
       "      <td>A-1</td>\n",
       "      <td>3</td>\n",
       "      <td>2016-02-08 00:37:08</td>\n",
       "      <td>2016-02-08 06:37:08</td>\n",
       "      <td>40.10891</td>\n",
       "      <td>-83.09286</td>\n",
       "      <td>40.11206</td>\n",
       "      <td>-83.03187</td>\n",
       "      <td>3.23000</td>\n",
       "      <td>Between Sawmill Rd/Exit 20 and OH-315/Olentang...</td>\n",
       "      <td>...</td>\n",
       "      <td>False</td>\n",
       "      <td>False</td>\n",
       "      <td>False</td>\n",
       "      <td>False</td>\n",
       "      <td>False</td>\n",
       "      <td>False</td>\n",
       "      <td>Night</td>\n",
       "      <td>Night</td>\n",
       "      <td>Night</td>\n",
       "      <td>Night</td>\n",
       "    </tr>\n",
       "    <tr>\n",
       "      <th>1</th>\n",
       "      <td>A-2</td>\n",
       "      <td>2</td>\n",
       "      <td>2016-02-08 05:56:20</td>\n",
       "      <td>2016-02-08 11:56:20</td>\n",
       "      <td>39.86542</td>\n",
       "      <td>-84.06280</td>\n",
       "      <td>39.86501</td>\n",
       "      <td>-84.04873</td>\n",
       "      <td>0.74700</td>\n",
       "      <td>At OH-4/OH-235/Exit 41 - Accident.</td>\n",
       "      <td>...</td>\n",
       "      <td>False</td>\n",
       "      <td>False</td>\n",
       "      <td>False</td>\n",
       "      <td>False</td>\n",
       "      <td>False</td>\n",
       "      <td>False</td>\n",
       "      <td>Night</td>\n",
       "      <td>Night</td>\n",
       "      <td>Night</td>\n",
       "      <td>Night</td>\n",
       "    </tr>\n",
       "    <tr>\n",
       "      <th>2</th>\n",
       "      <td>A-3</td>\n",
       "      <td>2</td>\n",
       "      <td>2016-02-08 06:15:39</td>\n",
       "      <td>2016-02-08 12:15:39</td>\n",
       "      <td>39.10266</td>\n",
       "      <td>-84.52468</td>\n",
       "      <td>39.10209</td>\n",
       "      <td>-84.52396</td>\n",
       "      <td>0.05500</td>\n",
       "      <td>At I-71/US-50/Exit 1 - Accident.</td>\n",
       "      <td>...</td>\n",
       "      <td>False</td>\n",
       "      <td>False</td>\n",
       "      <td>False</td>\n",
       "      <td>False</td>\n",
       "      <td>False</td>\n",
       "      <td>False</td>\n",
       "      <td>Night</td>\n",
       "      <td>Night</td>\n",
       "      <td>Night</td>\n",
       "      <td>Day</td>\n",
       "    </tr>\n",
       "    <tr>\n",
       "      <th>3</th>\n",
       "      <td>A-4</td>\n",
       "      <td>2</td>\n",
       "      <td>2016-02-08 06:51:45</td>\n",
       "      <td>2016-02-08 12:51:45</td>\n",
       "      <td>41.06213</td>\n",
       "      <td>-81.53784</td>\n",
       "      <td>41.06217</td>\n",
       "      <td>-81.53547</td>\n",
       "      <td>0.12300</td>\n",
       "      <td>At Dart Ave/Exit 21 - Accident.</td>\n",
       "      <td>...</td>\n",
       "      <td>False</td>\n",
       "      <td>False</td>\n",
       "      <td>False</td>\n",
       "      <td>False</td>\n",
       "      <td>False</td>\n",
       "      <td>False</td>\n",
       "      <td>Night</td>\n",
       "      <td>Night</td>\n",
       "      <td>Day</td>\n",
       "      <td>Day</td>\n",
       "    </tr>\n",
       "    <tr>\n",
       "      <th>4</th>\n",
       "      <td>A-5</td>\n",
       "      <td>3</td>\n",
       "      <td>2016-02-08 07:53:43</td>\n",
       "      <td>2016-02-08 13:53:43</td>\n",
       "      <td>39.17239</td>\n",
       "      <td>-84.49279</td>\n",
       "      <td>39.17048</td>\n",
       "      <td>-84.50180</td>\n",
       "      <td>0.50000</td>\n",
       "      <td>At Mitchell Ave/Exit 6 - Accident.</td>\n",
       "      <td>...</td>\n",
       "      <td>False</td>\n",
       "      <td>False</td>\n",
       "      <td>False</td>\n",
       "      <td>False</td>\n",
       "      <td>False</td>\n",
       "      <td>False</td>\n",
       "      <td>Day</td>\n",
       "      <td>Day</td>\n",
       "      <td>Day</td>\n",
       "      <td>Day</td>\n",
       "    </tr>\n",
       "  </tbody>\n",
       "</table>\n",
       "<p>5 rows × 47 columns</p>\n",
       "</div>"
      ],
      "text/plain": [
       "    ID  Severity           Start_Time             End_Time  Start_Lat  \\\n",
       "0  A-1         3  2016-02-08 00:37:08  2016-02-08 06:37:08   40.10891   \n",
       "1  A-2         2  2016-02-08 05:56:20  2016-02-08 11:56:20   39.86542   \n",
       "2  A-3         2  2016-02-08 06:15:39  2016-02-08 12:15:39   39.10266   \n",
       "3  A-4         2  2016-02-08 06:51:45  2016-02-08 12:51:45   41.06213   \n",
       "4  A-5         3  2016-02-08 07:53:43  2016-02-08 13:53:43   39.17239   \n",
       "\n",
       "   Start_Lng  End_Lat   End_Lng  Distance(mi)  \\\n",
       "0  -83.09286 40.11206 -83.03187       3.23000   \n",
       "1  -84.06280 39.86501 -84.04873       0.74700   \n",
       "2  -84.52468 39.10209 -84.52396       0.05500   \n",
       "3  -81.53784 41.06217 -81.53547       0.12300   \n",
       "4  -84.49279 39.17048 -84.50180       0.50000   \n",
       "\n",
       "                                         Description  ...  Roundabout Station  \\\n",
       "0  Between Sawmill Rd/Exit 20 and OH-315/Olentang...  ...       False   False   \n",
       "1                 At OH-4/OH-235/Exit 41 - Accident.  ...       False   False   \n",
       "2                   At I-71/US-50/Exit 1 - Accident.  ...       False   False   \n",
       "3                    At Dart Ave/Exit 21 - Accident.  ...       False   False   \n",
       "4                 At Mitchell Ave/Exit 6 - Accident.  ...       False   False   \n",
       "\n",
       "    Stop Traffic_Calming Traffic_Signal Turning_Loop Sunrise_Sunset  \\\n",
       "0  False           False          False        False          Night   \n",
       "1  False           False          False        False          Night   \n",
       "2  False           False          False        False          Night   \n",
       "3  False           False          False        False          Night   \n",
       "4  False           False          False        False            Day   \n",
       "\n",
       "  Civil_Twilight Nautical_Twilight Astronomical_Twilight  \n",
       "0          Night             Night                 Night  \n",
       "1          Night             Night                 Night  \n",
       "2          Night             Night                   Day  \n",
       "3          Night               Day                   Day  \n",
       "4            Day               Day                   Day  \n",
       "\n",
       "[5 rows x 47 columns]"
      ]
     },
     "execution_count": 3,
     "metadata": {},
     "output_type": "execute_result"
    }
   ],
   "source": [
    "df.head()"
   ]
  },
  {
   "cell_type": "code",
   "execution_count": 4,
   "id": "4bef03ca",
   "metadata": {},
   "outputs": [
    {
     "name": "stdout",
     "output_type": "stream",
     "text": [
      "<class 'pandas.core.frame.DataFrame'>\n",
      "RangeIndex: 2845342 entries, 0 to 2845341\n",
      "Data columns (total 47 columns):\n",
      " #   Column                 Dtype  \n",
      "---  ------                 -----  \n",
      " 0   ID                     object \n",
      " 1   Severity               int64  \n",
      " 2   Start_Time             object \n",
      " 3   End_Time               object \n",
      " 4   Start_Lat              float64\n",
      " 5   Start_Lng              float64\n",
      " 6   End_Lat                float64\n",
      " 7   End_Lng                float64\n",
      " 8   Distance(mi)           float64\n",
      " 9   Description            object \n",
      " 10  Number                 float64\n",
      " 11  Street                 object \n",
      " 12  Side                   object \n",
      " 13  City                   object \n",
      " 14  County                 object \n",
      " 15  State                  object \n",
      " 16  Zipcode                object \n",
      " 17  Country                object \n",
      " 18  Timezone               object \n",
      " 19  Airport_Code           object \n",
      " 20  Weather_Timestamp      object \n",
      " 21  Temperature(F)         float64\n",
      " 22  Wind_Chill(F)          float64\n",
      " 23  Humidity(%)            float64\n",
      " 24  Pressure(in)           float64\n",
      " 25  Visibility(mi)         float64\n",
      " 26  Wind_Direction         object \n",
      " 27  Wind_Speed(mph)        float64\n",
      " 28  Precipitation(in)      float64\n",
      " 29  Weather_Condition      object \n",
      " 30  Amenity                bool   \n",
      " 31  Bump                   bool   \n",
      " 32  Crossing               bool   \n",
      " 33  Give_Way               bool   \n",
      " 34  Junction               bool   \n",
      " 35  No_Exit                bool   \n",
      " 36  Railway                bool   \n",
      " 37  Roundabout             bool   \n",
      " 38  Station                bool   \n",
      " 39  Stop                   bool   \n",
      " 40  Traffic_Calming        bool   \n",
      " 41  Traffic_Signal         bool   \n",
      " 42  Turning_Loop           bool   \n",
      " 43  Sunrise_Sunset         object \n",
      " 44  Civil_Twilight         object \n",
      " 45  Nautical_Twilight      object \n",
      " 46  Astronomical_Twilight  object \n",
      "dtypes: bool(13), float64(13), int64(1), object(20)\n",
      "memory usage: 773.4+ MB\n"
     ]
    }
   ],
   "source": [
    "#check the number of rows and columns in the dataframe\n",
    "df.info()"
   ]
  },
  {
   "cell_type": "code",
   "execution_count": 5,
   "id": "3ed31fe6",
   "metadata": {},
   "outputs": [
    {
     "data": {
      "text/plain": [
       "ID                             0\n",
       "Severity                       0\n",
       "Start_Time                     0\n",
       "End_Time                       0\n",
       "Start_Lat                      0\n",
       "Start_Lng                      0\n",
       "End_Lat                        0\n",
       "End_Lng                        0\n",
       "Distance(mi)                   0\n",
       "Description                    0\n",
       "Number                   1743911\n",
       "Street                         2\n",
       "Side                           0\n",
       "City                         137\n",
       "County                         0\n",
       "State                          0\n",
       "Zipcode                     1319\n",
       "Country                        0\n",
       "Timezone                    3659\n",
       "Airport_Code                9549\n",
       "Weather_Timestamp          50736\n",
       "Temperature(F)             69274\n",
       "Wind_Chill(F)             469643\n",
       "Humidity(%)                73092\n",
       "Pressure(in)               59200\n",
       "Visibility(mi)             70546\n",
       "Wind_Direction             73775\n",
       "Wind_Speed(mph)           157944\n",
       "Precipitation(in)         549458\n",
       "Weather_Condition          70636\n",
       "Amenity                        0\n",
       "Bump                           0\n",
       "Crossing                       0\n",
       "Give_Way                       0\n",
       "Junction                       0\n",
       "No_Exit                        0\n",
       "Railway                        0\n",
       "Roundabout                     0\n",
       "Station                        0\n",
       "Stop                           0\n",
       "Traffic_Calming                0\n",
       "Traffic_Signal                 0\n",
       "Turning_Loop                   0\n",
       "Sunrise_Sunset              2867\n",
       "Civil_Twilight              2867\n",
       "Nautical_Twilight           2867\n",
       "Astronomical_Twilight       2867\n",
       "dtype: int64"
      ]
     },
     "execution_count": 5,
     "metadata": {},
     "output_type": "execute_result"
    }
   ],
   "source": [
    "df.isnull().sum()"
   ]
  },
  {
   "cell_type": "markdown",
   "id": "4391b4ee",
   "metadata": {},
   "source": [
    "# Data Cleaning/Processing/Engineering"
   ]
  },
  {
   "cell_type": "markdown",
   "id": "04027be2",
   "metadata": {},
   "source": [
    "## Droppping unecessary columns "
   ]
  },
  {
   "cell_type": "code",
   "execution_count": 6,
   "id": "84c6d10a",
   "metadata": {},
   "outputs": [],
   "source": [
    "#ID column is unique for every row and doesn't offer any useful information\n",
    "#Country and Turning_Loop only have 1 unique value so it doesn't offer any useful information\n",
    "#End_Lat and End_Lng are not needed because it can only be collected after the accident has already happened and therefore can't be predictors\n",
    "#Number has too many missing values.\n",
    "#Weather time stamp is not needed because it is collected after the incident"
   ]
  },
  {
   "cell_type": "code",
   "execution_count": 7,
   "id": "c2f13725",
   "metadata": {},
   "outputs": [],
   "source": [
    "df = df.drop(['ID','Description','End_Lat','End_Lng','Country',\n",
    "                  'Turning_Loop','Weather_Timestamp','Zipcode',\n",
    "                 'Airport_Code','Number'], axis=1)"
   ]
  },
  {
   "cell_type": "code",
   "execution_count": 8,
   "id": "48933ed2",
   "metadata": {},
   "outputs": [],
   "source": [
    "# drop na in Street\n",
    "df = df.dropna(subset=['Street'])"
   ]
  },
  {
   "cell_type": "code",
   "execution_count": 9,
   "id": "c8fc5556",
   "metadata": {},
   "outputs": [
    {
     "data": {
      "image/png": "[encoded data removed]",
      "text/plain": [
       "<Figure size 1440x720 with 1 Axes>"
      ]
     },
     "metadata": {
      "needs_background": "light"
     },
     "output_type": "display_data"
    }
   ],
   "source": [
    "ax1 = df.iloc[:3000].plot.scatter(x='Temperature(F)',y='Wind_Chill(F)',c='DarkBlue')\n",
    "plt.gcf().set_size_inches(20, 10)"
   ]
  },
  {
   "cell_type": "code",
   "execution_count": 10,
   "id": "e0164293",
   "metadata": {},
   "outputs": [
    {
     "data": {
      "text/plain": [
       "0.993856914301538"
      ]
     },
     "execution_count": 10,
     "metadata": {},
     "output_type": "execute_result"
    }
   ],
   "source": [
    "df['Temperature(F)'].corr(df['Wind_Chill(F)'])"
   ]
  },
  {
   "cell_type": "markdown",
   "id": "59cfaf24",
   "metadata": {},
   "source": [
    "As we can see,'Wind_Chill(F)' column is highly correlated with Temperature(F) column and has too many missing values,so we can drop it"
   ]
  },
  {
   "cell_type": "code",
   "execution_count": 11,
   "id": "5904e096",
   "metadata": {},
   "outputs": [],
   "source": [
    "df = df.drop('Wind_Chill(F)', axis=1)"
   ]
  },
  {
   "cell_type": "markdown",
   "id": "cc3c5563",
   "metadata": {},
   "source": [
    "## Fix Datetime Format"
   ]
  },
  {
   "cell_type": "code",
   "execution_count": 66,
   "id": "cb057865",
   "metadata": {},
   "outputs": [],
   "source": [
    "df['Start_Time'] = df['Start_Time'].astype('datetime64')\n",
    "df['End_Time'] = df['End_Time'].astype('datetime64')\n",
    "df['Start_Time'] = pd.to_datetime(df['Start_Time'], format='%Y-%m-%d %H:%M:%S')\n",
    "df['End_Time'] = pd.to_datetime(df['End_Time'], format='%Y-%m-%d %H:%M:%S')\n",
    "df['Year'] = df['Start_Time'].dt.year\n",
    "df['Month'] = df['Start_Time'].dt.month\n",
    "df['Day'] = df['Start_Time'].dt.day\n",
    "df['Hour'] = df['Start_Time'].dt.hour\n",
    "df['DayofWeek'] = df['Start_Time'].dt.dayofweek   \n",
    "dayofweek_dict = {0:'Monday', 1:'Tuesday', 2:'Wednesday', 3:'Thursday', 4:'Friday', 5:'Saturday', 6:'Sunday'}\n",
    "df['DayofWeek'] = df['DayofWeek'].map(dayofweek_dict)    \n",
    "df['Time_Diff'] = (df['End_Time'] - df['Start_Time']).astype('timedelta64[m]')\n",
    "df = df.drop(['End_Time'], axis=1)"
   ]
  },
  {
   "cell_type": "markdown",
   "id": "dd40f763",
   "metadata": {},
   "source": [
    "## Clean Up Categorical Features"
   ]
  },
  {
   "cell_type": "markdown",
   "id": "bf57489f",
   "metadata": {},
   "source": [
    "Wind_Direction column is not helpfull, we don't know the position or the direction of the car, we can drop it."
   ]
  },
  {
   "cell_type": "code",
   "execution_count": 14,
   "id": "f6d35354",
   "metadata": {},
   "outputs": [],
   "source": [
    "df = df.drop(['Wind_Direction'], axis=1)"
   ]
  },
  {
   "cell_type": "code",
   "execution_count": 15,
   "id": "947ef2b4",
   "metadata": {},
   "outputs": [
    {
     "data": {
      "text/html": [
       "<div>\n",
       "<style scoped>\n",
       "    .dataframe tbody tr th:only-of-type {\n",
       "        vertical-align: middle;\n",
       "    }\n",
       "\n",
       "    .dataframe tbody tr th {\n",
       "        vertical-align: top;\n",
       "    }\n",
       "\n",
       "    .dataframe thead th {\n",
       "        text-align: right;\n",
       "    }\n",
       "</style>\n",
       "<table border=\"1\" class=\"dataframe\">\n",
       "  <thead>\n",
       "    <tr style=\"text-align: right;\">\n",
       "      <th></th>\n",
       "      <th>Weather_Condition</th>\n",
       "      <th>Clear</th>\n",
       "      <th>Cloud</th>\n",
       "      <th>Rain</th>\n",
       "      <th>Heavy_Rain</th>\n",
       "      <th>Snow</th>\n",
       "      <th>Heavy_Snow</th>\n",
       "      <th>Fog</th>\n",
       "    </tr>\n",
       "  </thead>\n",
       "  <tbody>\n",
       "    <tr>\n",
       "      <th>0</th>\n",
       "      <td>Light Rain</td>\n",
       "      <td>False</td>\n",
       "      <td>False</td>\n",
       "      <td>True</td>\n",
       "      <td>False</td>\n",
       "      <td>False</td>\n",
       "      <td>False</td>\n",
       "      <td>False</td>\n",
       "    </tr>\n",
       "    <tr>\n",
       "      <th>1</th>\n",
       "      <td>Light Rain</td>\n",
       "      <td>False</td>\n",
       "      <td>False</td>\n",
       "      <td>True</td>\n",
       "      <td>False</td>\n",
       "      <td>False</td>\n",
       "      <td>False</td>\n",
       "      <td>False</td>\n",
       "    </tr>\n",
       "    <tr>\n",
       "      <th>2</th>\n",
       "      <td>Overcast</td>\n",
       "      <td>False</td>\n",
       "      <td>True</td>\n",
       "      <td>False</td>\n",
       "      <td>False</td>\n",
       "      <td>False</td>\n",
       "      <td>False</td>\n",
       "      <td>False</td>\n",
       "    </tr>\n",
       "    <tr>\n",
       "      <th>3</th>\n",
       "      <td>Overcast</td>\n",
       "      <td>False</td>\n",
       "      <td>True</td>\n",
       "      <td>False</td>\n",
       "      <td>False</td>\n",
       "      <td>False</td>\n",
       "      <td>False</td>\n",
       "      <td>False</td>\n",
       "    </tr>\n",
       "    <tr>\n",
       "      <th>4</th>\n",
       "      <td>Light Rain</td>\n",
       "      <td>False</td>\n",
       "      <td>False</td>\n",
       "      <td>True</td>\n",
       "      <td>False</td>\n",
       "      <td>False</td>\n",
       "      <td>False</td>\n",
       "      <td>False</td>\n",
       "    </tr>\n",
       "    <tr>\n",
       "      <th>...</th>\n",
       "      <td>...</td>\n",
       "      <td>...</td>\n",
       "      <td>...</td>\n",
       "      <td>...</td>\n",
       "      <td>...</td>\n",
       "      <td>...</td>\n",
       "      <td>...</td>\n",
       "      <td>...</td>\n",
       "    </tr>\n",
       "    <tr>\n",
       "      <th>2845337</th>\n",
       "      <td>Fair</td>\n",
       "      <td>False</td>\n",
       "      <td>False</td>\n",
       "      <td>False</td>\n",
       "      <td>False</td>\n",
       "      <td>False</td>\n",
       "      <td>False</td>\n",
       "      <td>False</td>\n",
       "    </tr>\n",
       "    <tr>\n",
       "      <th>2845338</th>\n",
       "      <td>Fair</td>\n",
       "      <td>False</td>\n",
       "      <td>False</td>\n",
       "      <td>False</td>\n",
       "      <td>False</td>\n",
       "      <td>False</td>\n",
       "      <td>False</td>\n",
       "      <td>False</td>\n",
       "    </tr>\n",
       "    <tr>\n",
       "      <th>2845339</th>\n",
       "      <td>Partly Cloudy</td>\n",
       "      <td>False</td>\n",
       "      <td>True</td>\n",
       "      <td>False</td>\n",
       "      <td>False</td>\n",
       "      <td>False</td>\n",
       "      <td>False</td>\n",
       "      <td>False</td>\n",
       "    </tr>\n",
       "    <tr>\n",
       "      <th>2845340</th>\n",
       "      <td>Fair</td>\n",
       "      <td>False</td>\n",
       "      <td>False</td>\n",
       "      <td>False</td>\n",
       "      <td>False</td>\n",
       "      <td>False</td>\n",
       "      <td>False</td>\n",
       "      <td>False</td>\n",
       "    </tr>\n",
       "    <tr>\n",
       "      <th>2845341</th>\n",
       "      <td>Fair</td>\n",
       "      <td>False</td>\n",
       "      <td>False</td>\n",
       "      <td>False</td>\n",
       "      <td>False</td>\n",
       "      <td>False</td>\n",
       "      <td>False</td>\n",
       "      <td>False</td>\n",
       "    </tr>\n",
       "  </tbody>\n",
       "</table>\n",
       "<p>2845340 rows × 8 columns</p>\n",
       "</div>"
      ],
      "text/plain": [
       "        Weather_Condition  Clear  Cloud   Rain  Heavy_Rain   Snow  Heavy_Snow  \\\n",
       "0              Light Rain  False  False   True       False  False       False   \n",
       "1              Light Rain  False  False   True       False  False       False   \n",
       "2                Overcast  False   True  False       False  False       False   \n",
       "3                Overcast  False   True  False       False  False       False   \n",
       "4              Light Rain  False  False   True       False  False       False   \n",
       "...                   ...    ...    ...    ...         ...    ...         ...   \n",
       "2845337              Fair  False  False  False       False  False       False   \n",
       "2845338              Fair  False  False  False       False  False       False   \n",
       "2845339     Partly Cloudy  False   True  False       False  False       False   \n",
       "2845340              Fair  False  False  False       False  False       False   \n",
       "2845341              Fair  False  False  False       False  False       False   \n",
       "\n",
       "           Fog  \n",
       "0        False  \n",
       "1        False  \n",
       "2        False  \n",
       "3        False  \n",
       "4        False  \n",
       "...        ...  \n",
       "2845337  False  \n",
       "2845338  False  \n",
       "2845339  False  \n",
       "2845340  False  \n",
       "2845341  False  \n",
       "\n",
       "[2845340 rows x 8 columns]"
      ]
     },
     "execution_count": 15,
     "metadata": {},
     "output_type": "execute_result"
    }
   ],
   "source": [
    "df['Clear'] = np.where(df['Weather_Condition'].str.contains('Clear', case=False, na = False), True, False)\n",
    "df['Cloud'] = np.where(df['Weather_Condition'].str.contains('Cloud|Overcast', case=False, na = False), True, False)\n",
    "df['Rain'] = np.where(df['Weather_Condition'].str.contains('Rain|storm', case=False, na = False), True, False)\n",
    "df['Heavy_Rain'] = np.where(df['Weather_Condition'].str.contains('Heavy Rain|Rain Shower|Heavy T-Storm|Heavy Thunderstorms', case=False, na = False), True, False)\n",
    "df['Snow'] = np.where(df['Weather_Condition'].str.contains('Snow|Sleet|Ice', case=False, na = False), True, False)\n",
    "df['Heavy_Snow'] = np.where(df['Weather_Condition'].str.contains('Heavy Snow|Heavy Sleet|Heavy Ice Pellets|Snow Showers|Squalls', case=False, na = False), True, False)\n",
    "df['Fog'] = np.where(df['Weather_Condition'].str.contains('Fog', case=False, na = False), True, False)\n",
    "\n",
    "# Assign NA to created weather features where 'Weather_Condition' is null.\n",
    "weather = ['Clear','Cloud','Rain','Heavy_Rain','Snow','Heavy_Snow','Fog']\n",
    "for i in weather:\n",
    "    df.loc[df['Weather_Condition'].isnull(),i] = df.loc[df['Weather_Condition'].isnull(),'Weather_Condition']\n",
    "    df[i] = df[i].astype('bool')\n",
    "df.loc[:,['Weather_Condition'] + weather]"
   ]
  },
  {
   "cell_type": "code",
   "execution_count": 16,
   "id": "744218bf",
   "metadata": {},
   "outputs": [],
   "source": [
    "for col in ['Astronomical_Twilight', 'Nautical_Twilight', 'Civil_Twilight', 'Sunrise_Sunset']:\n",
    "    df[col] = df[col].astype('category')"
   ]
  },
  {
   "cell_type": "code",
   "execution_count": 17,
   "id": "557fa8fc",
   "metadata": {},
   "outputs": [],
   "source": [
    "Night = df[df['Sunrise_Sunset']=='Night'].groupby([df['Hour']]).count()['Severity']\n",
    "Day = df[df['Sunrise_Sunset']=='Day'].groupby([df['Hour']]).count()['Severity']\n",
    "day_night = pd.concat([Night, Day], axis=1)\n",
    "day_night.columns= ['Night','Day']\n",
    "day_night = day_night.replace(np.nan, 0)"
   ]
  },
  {
   "cell_type": "code",
   "execution_count": 18,
   "id": "6fd458bd",
   "metadata": {},
   "outputs": [
    {
     "data": {
      "image/png": "[encoded data removed]",
      "text/plain": [
       "<Figure size 1440x720 with 1 Axes>"
      ]
     },
     "metadata": {
      "needs_background": "light"
     },
     "output_type": "display_data"
    }
   ],
   "source": [
    "day_night.plot(kind=\"bar\")\n",
    "plt.xticks(rotation = 90) \n",
    "plt.gcf().set_size_inches(20, 10)"
   ]
  },
  {
   "cell_type": "code",
   "execution_count": 19,
   "id": "071aa7fb",
   "metadata": {},
   "outputs": [],
   "source": [
    "def fill_missing_values_Sunrise_Sunset(row):\n",
    "    if pd.isna(row['Sunrise_Sunset']) :\n",
    "        if row['Hour'] >= 6 and row['Hour'] < 18 :\n",
    "            return 'Day'\n",
    "        else :\n",
    "            return 'Night'\n",
    "    else:\n",
    "        return row['Sunrise_Sunset']"
   ]
  },
  {
   "cell_type": "code",
   "execution_count": 20,
   "id": "e4fccd16",
   "metadata": {},
   "outputs": [],
   "source": [
    "df['Sunrise_Sunset'] = df.apply(lambda row : fill_missing_values_Sunrise_Sunset(row),axis=1)"
   ]
  },
  {
   "cell_type": "code",
   "execution_count": 21,
   "id": "46910345",
   "metadata": {},
   "outputs": [],
   "source": [
    "Night = df[df['Astronomical_Twilight']=='Night'].groupby(df['Hour']).count()['Severity']\n",
    "Day = df[df['Astronomical_Twilight']=='Day'].groupby([df['Hour']]).count()['Severity']\n",
    "day_night = pd.concat([Night, Day], axis=1)\n",
    "day_night.columns= ['Night','Day']\n",
    "day_night = day_night.replace(np.nan, 0)"
   ]
  },
  {
   "cell_type": "code",
   "execution_count": 22,
   "id": "e8e049b1",
   "metadata": {},
   "outputs": [
    {
     "data": {
      "image/png": "[encoded data removed]",
      "text/plain": [
       "<Figure size 1440x720 with 1 Axes>"
      ]
     },
     "metadata": {
      "needs_background": "light"
     },
     "output_type": "display_data"
    }
   ],
   "source": [
    "day_night = day_night.replace(np.nan, 0)\n",
    "day_night.plot(kind=\"bar\")\n",
    "plt.xticks(rotation = 90) \n",
    "plt.gcf().set_size_inches(20, 10)"
   ]
  },
  {
   "cell_type": "code",
   "execution_count": 23,
   "id": "52d0d6d4",
   "metadata": {},
   "outputs": [],
   "source": [
    "def fill_missing_values_Astronomical_Twilight(row):\n",
    "    if pd.isna(row['Astronomical_Twilight']) :\n",
    "        if row['Hour'] >= 5 and row['Hour'] < 20 :\n",
    "            return 'Day'\n",
    "        else :\n",
    "            return 'Night'\n",
    "    else:\n",
    "        return row['Astronomical_Twilight']"
   ]
  },
  {
   "cell_type": "code",
   "execution_count": 24,
   "id": "6fcffd08",
   "metadata": {},
   "outputs": [],
   "source": [
    "df['Astronomical_Twilight'] = df.apply(lambda row : fill_missing_values_Astronomical_Twilight(row),axis=1)"
   ]
  },
  {
   "cell_type": "code",
   "execution_count": 25,
   "id": "e677f0c4",
   "metadata": {},
   "outputs": [],
   "source": [
    "Night = df[df['Nautical_Twilight']=='Night'].groupby([df['Hour']]).count()['Severity']\n",
    "Day = df[df['Nautical_Twilight']=='Day'].groupby([df['Hour']]).count()['Severity']\n",
    "day_night = pd.concat([Night, Day], axis=1)\n",
    "day_night.columns= ['Night','Day']\n",
    "day_night = day_night.replace(np.nan, 0)"
   ]
  },
  {
   "cell_type": "code",
   "execution_count": 26,
   "id": "00697bfd",
   "metadata": {},
   "outputs": [
    {
     "data": {
      "image/png": "[encoded data removed]",
      "text/plain": [
       "<Figure size 1440x720 with 1 Axes>"
      ]
     },
     "metadata": {
      "needs_background": "light"
     },
     "output_type": "display_data"
    }
   ],
   "source": [
    "day_night = day_night.replace(np.nan, 0)\n",
    "day_night.plot(kind=\"bar\")\n",
    "plt.xticks(rotation = 90) \n",
    "plt.gcf().set_size_inches(20, 10)"
   ]
  },
  {
   "cell_type": "code",
   "execution_count": 27,
   "id": "11912abd",
   "metadata": {},
   "outputs": [],
   "source": [
    "def fill_missing_values_Nautical_Twilight(row):\n",
    "    if pd.isna(row['Nautical_Twilight']) :\n",
    "        if row['Hour'] >= 6 and row['Hour'] < 19 :\n",
    "            return 'Day'\n",
    "        else :\n",
    "            return 'Night'\n",
    "    else:\n",
    "        return row['Nautical_Twilight']"
   ]
  },
  {
   "cell_type": "code",
   "execution_count": 28,
   "id": "71891f8e",
   "metadata": {},
   "outputs": [],
   "source": [
    "df['Nautical_Twilight'] = df.apply(lambda row : fill_missing_values_Nautical_Twilight(row),axis=1)"
   ]
  },
  {
   "cell_type": "code",
   "execution_count": 29,
   "id": "316b8097",
   "metadata": {},
   "outputs": [],
   "source": [
    "Night = df[df['Civil_Twilight']=='Night'].groupby([df['Hour']]).count()['Severity']\n",
    "Day = df[df['Civil_Twilight']=='Day'].groupby([df['Hour']]).count()['Severity']\n",
    "day_night = pd.concat([Night, Day], axis=1)\n",
    "day_night.columns= ['Night','Day']\n",
    "day_night = day_night.replace(np.nan, 0)"
   ]
  },
  {
   "cell_type": "code",
   "execution_count": 30,
   "id": "62abe93d",
   "metadata": {},
   "outputs": [
    {
     "data": {
      "image/png": "[encoded data removed]",
      "text/plain": [
       "<Figure size 1440x720 with 1 Axes>"
      ]
     },
     "metadata": {
      "needs_background": "light"
     },
     "output_type": "display_data"
    }
   ],
   "source": [
    "day_night = day_night.replace(np.nan, 0)\n",
    "day_night.plot(kind=\"bar\")\n",
    "plt.xticks(rotation = 90) \n",
    "plt.gcf().set_size_inches(20, 10)"
   ]
  },
  {
   "cell_type": "code",
   "execution_count": 31,
   "id": "126738c9",
   "metadata": {},
   "outputs": [],
   "source": [
    "def fill_missing_values_Civil_Twilight(row):\n",
    "    if pd.isna(row['Civil_Twilight']) :\n",
    "        if row['Hour'] >= 6 and row['Hour'] < 19 :\n",
    "            return 'Day'\n",
    "        else :\n",
    "            return 'Night'\n",
    "    else:\n",
    "        return row['Civil_Twilight']"
   ]
  },
  {
   "cell_type": "code",
   "execution_count": 32,
   "id": "bf09045e",
   "metadata": {},
   "outputs": [],
   "source": [
    "df['Civil_Twilight'] = df.apply(lambda row : fill_missing_values_Civil_Twilight(row),axis=1)"
   ]
  },
  {
   "cell_type": "code",
   "execution_count": null,
   "id": "28c452df",
   "metadata": {},
   "outputs": [],
   "source": []
  },
  {
   "cell_type": "code",
   "execution_count": null,
   "id": "759cdecd",
   "metadata": {},
   "outputs": [],
   "source": []
  },
  {
   "cell_type": "markdown",
   "id": "bf998477",
   "metadata": {},
   "source": [
    "# HANDLING THE REST OF MISSING DATA"
   ]
  },
  {
   "cell_type": "code",
   "execution_count": 33,
   "id": "a6f98b5a",
   "metadata": {},
   "outputs": [
    {
     "data": {
      "text/plain": [
       "Severity                 0.00000\n",
       "Start_Time               0.00000\n",
       "Start_Lat                0.00000\n",
       "Start_Lng                0.00000\n",
       "Distance(mi)             0.00000\n",
       "Street                   0.00000\n",
       "Side                     0.00000\n",
       "City                     0.00481\n",
       "County                   0.00000\n",
       "State                    0.00000\n",
       "Timezone                 0.12856\n",
       "Temperature(F)           2.43461\n",
       "Humidity(%)              2.56880\n",
       "Pressure(in)             2.08056\n",
       "Visibility(mi)           2.47932\n",
       "Wind_Speed(mph)          5.55094\n",
       "Precipitation(in)       19.31077\n",
       "Weather_Condition        2.48248\n",
       "Amenity                  0.00000\n",
       "Bump                     0.00000\n",
       "Crossing                 0.00000\n",
       "Give_Way                 0.00000\n",
       "Junction                 0.00000\n",
       "No_Exit                  0.00000\n",
       "Railway                  0.00000\n",
       "Roundabout               0.00000\n",
       "Station                  0.00000\n",
       "Stop                     0.00000\n",
       "Traffic_Calming          0.00000\n",
       "Traffic_Signal           0.00000\n",
       "Sunrise_Sunset           0.00000\n",
       "Civil_Twilight           0.00000\n",
       "Nautical_Twilight        0.00000\n",
       "Astronomical_Twilight    0.00000\n",
       "Year                     0.00000\n",
       "Month                    0.00000\n",
       "Day                      0.00000\n",
       "Hour                     0.00000\n",
       "DayofWeek                0.00000\n",
       "Time_Diff                0.00000\n",
       "Clear                    0.00000\n",
       "Cloud                    0.00000\n",
       "Rain                     0.00000\n",
       "Heavy_Rain               0.00000\n",
       "Snow                     0.00000\n",
       "Heavy_Snow               0.00000\n",
       "Fog                      0.00000\n",
       "dtype: float64"
      ]
     },
     "execution_count": 33,
     "metadata": {},
     "output_type": "execute_result"
    }
   ],
   "source": [
    "#percentage of missing data\n",
    "df.isnull().sum() / len(df)*100"
   ]
  },
  {
   "cell_type": "code",
   "execution_count": 34,
   "id": "73be684c",
   "metadata": {},
   "outputs": [
    {
     "name": "stdout",
     "output_type": "stream",
     "text": [
      "The number of remaining missing values: \n",
      "Temperature(F) : 7217\n",
      "Humidity(%) : 7331\n",
      "Pressure(in) : 6889\n",
      "Visibility(mi) : 13599\n",
      "Wind_Speed(mph) : 15085\n",
      "Precipitation(in) : 58046\n"
     ]
    }
   ],
   "source": [
    "# group data by 'City' and 'Start_Month' then fill NAs with median value\n",
    "Weather_data=['Temperature(F)','Humidity(%)','Pressure(in)','Visibility(mi)','Wind_Speed(mph)','Precipitation(in)']\n",
    "print(\"The number of remaining missing values: \")\n",
    "for i in Weather_data:\n",
    "  df[i] = df.groupby(['City','Month'])[i].apply(lambda x: x.fillna(x.median()))\n",
    "  print( i + \" : \" + df[i].isnull().sum().astype(str))"
   ]
  },
  {
   "cell_type": "code",
   "execution_count": 35,
   "id": "b54ba790",
   "metadata": {},
   "outputs": [],
   "source": [
    "df = df.dropna(subset=Weather_data)"
   ]
  },
  {
   "cell_type": "code",
   "execution_count": 36,
   "id": "a3c749cd",
   "metadata": {},
   "outputs": [
    {
     "data": {
      "text/plain": [
       "Severity                0.00000\n",
       "Start_Time              0.00000\n",
       "Start_Lat               0.00000\n",
       "Start_Lng               0.00000\n",
       "Distance(mi)            0.00000\n",
       "Street                  0.00000\n",
       "Side                    0.00000\n",
       "City                    0.00000\n",
       "County                  0.00000\n",
       "State                   0.00000\n",
       "Timezone                0.09191\n",
       "Temperature(F)          0.00000\n",
       "Humidity(%)             0.00000\n",
       "Pressure(in)            0.00000\n",
       "Visibility(mi)          0.00000\n",
       "Wind_Speed(mph)         0.00000\n",
       "Precipitation(in)       0.00000\n",
       "Weather_Condition       2.00235\n",
       "Amenity                 0.00000\n",
       "Bump                    0.00000\n",
       "Crossing                0.00000\n",
       "Give_Way                0.00000\n",
       "Junction                0.00000\n",
       "No_Exit                 0.00000\n",
       "Railway                 0.00000\n",
       "Roundabout              0.00000\n",
       "Station                 0.00000\n",
       "Stop                    0.00000\n",
       "Traffic_Calming         0.00000\n",
       "Traffic_Signal          0.00000\n",
       "Sunrise_Sunset          0.00000\n",
       "Civil_Twilight          0.00000\n",
       "Nautical_Twilight       0.00000\n",
       "Astronomical_Twilight   0.00000\n",
       "Year                    0.00000\n",
       "Month                   0.00000\n",
       "Day                     0.00000\n",
       "Hour                    0.00000\n",
       "DayofWeek               0.00000\n",
       "Time_Diff               0.00000\n",
       "Clear                   0.00000\n",
       "Cloud                   0.00000\n",
       "Rain                    0.00000\n",
       "Heavy_Rain              0.00000\n",
       "Snow                    0.00000\n",
       "Heavy_Snow              0.00000\n",
       "Fog                     0.00000\n",
       "dtype: float64"
      ]
     },
     "execution_count": 36,
     "metadata": {},
     "output_type": "execute_result"
    }
   ],
   "source": [
    "#percentage of missing data\n",
    "df.isnull().sum() / len(df)*100"
   ]
  },
  {
   "cell_type": "markdown",
   "id": "5a40dc0f",
   "metadata": {},
   "source": [
    "we can use Street column to fill missing data in Timezone column, every Street is associated with only one Timezone."
   ]
  },
  {
   "cell_type": "code",
   "execution_count": 37,
   "id": "1ff8d54f",
   "metadata": {},
   "outputs": [
    {
     "data": {
      "text/plain": [
       "array(['US/Eastern', 'US/Pacific', 'US/Central', 'US/Mountain', nan],\n",
       "      dtype=object)"
      ]
     },
     "execution_count": 37,
     "metadata": {},
     "output_type": "execute_result"
    }
   ],
   "source": [
    "df['Timezone'].unique()"
   ]
  },
  {
   "cell_type": "code",
   "execution_count": 38,
   "id": "0fac046f",
   "metadata": {},
   "outputs": [
    {
     "data": {
      "text/html": [
       "<div>\n",
       "<style scoped>\n",
       "    .dataframe tbody tr th:only-of-type {\n",
       "        vertical-align: middle;\n",
       "    }\n",
       "\n",
       "    .dataframe tbody tr th {\n",
       "        vertical-align: top;\n",
       "    }\n",
       "\n",
       "    .dataframe thead th {\n",
       "        text-align: right;\n",
       "    }\n",
       "</style>\n",
       "<table border=\"1\" class=\"dataframe\">\n",
       "  <thead>\n",
       "    <tr style=\"text-align: right;\">\n",
       "      <th></th>\n",
       "      <th>Timezone</th>\n",
       "    </tr>\n",
       "    <tr>\n",
       "      <th>Street</th>\n",
       "      <th></th>\n",
       "    </tr>\n",
       "  </thead>\n",
       "  <tbody>\n",
       "    <tr>\n",
       "      <th>Outerbelt E</th>\n",
       "      <td>US/Eastern</td>\n",
       "    </tr>\n",
       "    <tr>\n",
       "      <th>I-70 E</th>\n",
       "      <td>US/Eastern</td>\n",
       "    </tr>\n",
       "    <tr>\n",
       "      <th>I-75 S</th>\n",
       "      <td>US/Eastern</td>\n",
       "    </tr>\n",
       "    <tr>\n",
       "      <th>I-77 N</th>\n",
       "      <td>US/Eastern</td>\n",
       "    </tr>\n",
       "    <tr>\n",
       "      <th>State Route 32</th>\n",
       "      <td>US/Eastern</td>\n",
       "    </tr>\n",
       "  </tbody>\n",
       "</table>\n",
       "</div>"
      ],
      "text/plain": [
       "                  Timezone\n",
       "Street                    \n",
       "Outerbelt E     US/Eastern\n",
       "I-70 E          US/Eastern\n",
       "I-75 S          US/Eastern\n",
       "I-77 N          US/Eastern\n",
       "State Route 32  US/Eastern"
      ]
     },
     "execution_count": 38,
     "metadata": {},
     "output_type": "execute_result"
    }
   ],
   "source": [
    "df2 = df[['Timezone','Street']].copy()\n",
    "df2.dropna(axis=0,inplace=True)\n",
    "df2.drop_duplicates(subset=['Street'],inplace=True)\n",
    "df2.set_index('Street',inplace=True)\n",
    "df2.head()#df2 contains all unique couples of street and its associated timezone"
   ]
  },
  {
   "cell_type": "code",
   "execution_count": 39,
   "id": "b66fd98f",
   "metadata": {},
   "outputs": [],
   "source": [
    "df['Timezone'] = df['Timezone'].replace(np.nan, \"Not Found\")"
   ]
  },
  {
   "cell_type": "code",
   "execution_count": 40,
   "id": "0c6f1657",
   "metadata": {},
   "outputs": [],
   "source": [
    "def fill_missing_values_Timezone(row):\n",
    "    if row['Timezone']=='Not Found' and  row['Street'] in df2.index :\n",
    "        return df2.loc[row['Street']]['Timezone']\n",
    "    else :\n",
    "        return row['Timezone']"
   ]
  },
  {
   "cell_type": "code",
   "execution_count": 41,
   "id": "b2602fb9",
   "metadata": {},
   "outputs": [],
   "source": [
    "df['Timezone'] = df.apply(lambda row: fill_missing_values_Timezone(row) ,axis=1)"
   ]
  },
  {
   "cell_type": "code",
   "execution_count": 42,
   "id": "c6998261",
   "metadata": {},
   "outputs": [
    {
     "data": {
      "text/plain": [
       "Severity                     0\n",
       "Start_Time                   0\n",
       "Start_Lat                    0\n",
       "Start_Lng                    0\n",
       "Distance(mi)                 0\n",
       "Street                       0\n",
       "Side                         0\n",
       "City                         0\n",
       "County                       0\n",
       "State                        0\n",
       "Timezone                     0\n",
       "Temperature(F)               0\n",
       "Humidity(%)                  0\n",
       "Pressure(in)                 0\n",
       "Visibility(mi)               0\n",
       "Wind_Speed(mph)              0\n",
       "Precipitation(in)            0\n",
       "Weather_Condition        55662\n",
       "Amenity                      0\n",
       "Bump                         0\n",
       "Crossing                     0\n",
       "Give_Way                     0\n",
       "Junction                     0\n",
       "No_Exit                      0\n",
       "Railway                      0\n",
       "Roundabout                   0\n",
       "Station                      0\n",
       "Stop                         0\n",
       "Traffic_Calming              0\n",
       "Traffic_Signal               0\n",
       "Sunrise_Sunset               0\n",
       "Civil_Twilight               0\n",
       "Nautical_Twilight            0\n",
       "Astronomical_Twilight        0\n",
       "Year                         0\n",
       "Month                        0\n",
       "Day                          0\n",
       "Hour                         0\n",
       "DayofWeek                    0\n",
       "Time_Diff                    0\n",
       "Clear                        0\n",
       "Cloud                        0\n",
       "Rain                         0\n",
       "Heavy_Rain                   0\n",
       "Snow                         0\n",
       "Heavy_Snow                   0\n",
       "Fog                          0\n",
       "dtype: int64"
      ]
     },
     "execution_count": 42,
     "metadata": {},
     "output_type": "execute_result"
    }
   ],
   "source": [
    "df.isnull().sum()"
   ]
  },
  {
   "cell_type": "code",
   "execution_count": 277,
   "id": "9f26ef13",
   "metadata": {},
   "outputs": [],
   "source": [
    "df = df.replace([True, False], [1,0])"
   ]
  },
  {
   "cell_type": "code",
   "execution_count": 44,
   "id": "e1296332",
   "metadata": {},
   "outputs": [],
   "source": [
    "t=df[['Side','Timezone','DayofWeek','Sunrise_Sunset','Civil_Twilight','Nautical_Twilight','Astronomical_Twilight']].copy()"
   ]
  },
  {
   "cell_type": "code",
   "execution_count": 278,
   "id": "4ccb9b47",
   "metadata": {},
   "outputs": [],
   "source": [
    "cat = ['Side','Timezone','DayofWeek','Sunrise_Sunset','Civil_Twilight','Nautical_Twilight','Astronomical_Twilight']\n",
    "df[cat] = df[cat].astype('category')\n",
    "df = pd.get_dummies(df, columns=cat, drop_first=True)"
   ]
  },
  {
   "cell_type": "code",
   "execution_count": 54,
   "id": "b09c16fc",
   "metadata": {},
   "outputs": [
    {
     "data": {
      "text/html": [
       "<div>\n",
       "<style scoped>\n",
       "    .dataframe tbody tr th:only-of-type {\n",
       "        vertical-align: middle;\n",
       "    }\n",
       "\n",
       "    .dataframe tbody tr th {\n",
       "        vertical-align: top;\n",
       "    }\n",
       "\n",
       "    .dataframe thead th {\n",
       "        text-align: right;\n",
       "    }\n",
       "</style>\n",
       "<table border=\"1\" class=\"dataframe\">\n",
       "  <thead>\n",
       "    <tr style=\"text-align: right;\">\n",
       "      <th></th>\n",
       "      <th>Side_R</th>\n",
       "      <th>Timezone_US/Central</th>\n",
       "      <th>Timezone_US/Eastern</th>\n",
       "      <th>Timezone_US/Mountain</th>\n",
       "      <th>Timezone_US/Pacific</th>\n",
       "      <th>DayofWeek_Monday</th>\n",
       "      <th>DayofWeek_Saturday</th>\n",
       "      <th>DayofWeek_Sunday</th>\n",
       "      <th>DayofWeek_Thursday</th>\n",
       "      <th>DayofWeek_Tuesday</th>\n",
       "      <th>DayofWeek_Wednesday</th>\n",
       "      <th>Sunrise_Sunset_Night</th>\n",
       "      <th>Civil_Twilight_Night</th>\n",
       "      <th>Nautical_Twilight_Night</th>\n",
       "      <th>Astronomical_Twilight_Night</th>\n",
       "    </tr>\n",
       "  </thead>\n",
       "  <tbody>\n",
       "    <tr>\n",
       "      <th>0</th>\n",
       "      <td>1</td>\n",
       "      <td>0</td>\n",
       "      <td>1</td>\n",
       "      <td>0</td>\n",
       "      <td>0</td>\n",
       "      <td>1</td>\n",
       "      <td>0</td>\n",
       "      <td>0</td>\n",
       "      <td>0</td>\n",
       "      <td>0</td>\n",
       "      <td>0</td>\n",
       "      <td>1</td>\n",
       "      <td>1</td>\n",
       "      <td>1</td>\n",
       "      <td>1</td>\n",
       "    </tr>\n",
       "    <tr>\n",
       "      <th>1</th>\n",
       "      <td>1</td>\n",
       "      <td>0</td>\n",
       "      <td>1</td>\n",
       "      <td>0</td>\n",
       "      <td>0</td>\n",
       "      <td>1</td>\n",
       "      <td>0</td>\n",
       "      <td>0</td>\n",
       "      <td>0</td>\n",
       "      <td>0</td>\n",
       "      <td>0</td>\n",
       "      <td>1</td>\n",
       "      <td>1</td>\n",
       "      <td>1</td>\n",
       "      <td>1</td>\n",
       "    </tr>\n",
       "    <tr>\n",
       "      <th>2</th>\n",
       "      <td>1</td>\n",
       "      <td>0</td>\n",
       "      <td>1</td>\n",
       "      <td>0</td>\n",
       "      <td>0</td>\n",
       "      <td>1</td>\n",
       "      <td>0</td>\n",
       "      <td>0</td>\n",
       "      <td>0</td>\n",
       "      <td>0</td>\n",
       "      <td>0</td>\n",
       "      <td>1</td>\n",
       "      <td>1</td>\n",
       "      <td>1</td>\n",
       "      <td>0</td>\n",
       "    </tr>\n",
       "    <tr>\n",
       "      <th>3</th>\n",
       "      <td>1</td>\n",
       "      <td>0</td>\n",
       "      <td>1</td>\n",
       "      <td>0</td>\n",
       "      <td>0</td>\n",
       "      <td>1</td>\n",
       "      <td>0</td>\n",
       "      <td>0</td>\n",
       "      <td>0</td>\n",
       "      <td>0</td>\n",
       "      <td>0</td>\n",
       "      <td>1</td>\n",
       "      <td>1</td>\n",
       "      <td>0</td>\n",
       "      <td>0</td>\n",
       "    </tr>\n",
       "    <tr>\n",
       "      <th>4</th>\n",
       "      <td>1</td>\n",
       "      <td>0</td>\n",
       "      <td>1</td>\n",
       "      <td>0</td>\n",
       "      <td>0</td>\n",
       "      <td>1</td>\n",
       "      <td>0</td>\n",
       "      <td>0</td>\n",
       "      <td>0</td>\n",
       "      <td>0</td>\n",
       "      <td>0</td>\n",
       "      <td>0</td>\n",
       "      <td>0</td>\n",
       "      <td>0</td>\n",
       "      <td>0</td>\n",
       "    </tr>\n",
       "    <tr>\n",
       "      <th>...</th>\n",
       "      <td>...</td>\n",
       "      <td>...</td>\n",
       "      <td>...</td>\n",
       "      <td>...</td>\n",
       "      <td>...</td>\n",
       "      <td>...</td>\n",
       "      <td>...</td>\n",
       "      <td>...</td>\n",
       "      <td>...</td>\n",
       "      <td>...</td>\n",
       "      <td>...</td>\n",
       "      <td>...</td>\n",
       "      <td>...</td>\n",
       "      <td>...</td>\n",
       "      <td>...</td>\n",
       "    </tr>\n",
       "    <tr>\n",
       "      <th>2845337</th>\n",
       "      <td>1</td>\n",
       "      <td>0</td>\n",
       "      <td>0</td>\n",
       "      <td>0</td>\n",
       "      <td>1</td>\n",
       "      <td>0</td>\n",
       "      <td>0</td>\n",
       "      <td>0</td>\n",
       "      <td>0</td>\n",
       "      <td>0</td>\n",
       "      <td>0</td>\n",
       "      <td>0</td>\n",
       "      <td>0</td>\n",
       "      <td>0</td>\n",
       "      <td>0</td>\n",
       "    </tr>\n",
       "    <tr>\n",
       "      <th>2845338</th>\n",
       "      <td>1</td>\n",
       "      <td>0</td>\n",
       "      <td>0</td>\n",
       "      <td>0</td>\n",
       "      <td>1</td>\n",
       "      <td>0</td>\n",
       "      <td>0</td>\n",
       "      <td>0</td>\n",
       "      <td>0</td>\n",
       "      <td>0</td>\n",
       "      <td>0</td>\n",
       "      <td>0</td>\n",
       "      <td>0</td>\n",
       "      <td>0</td>\n",
       "      <td>0</td>\n",
       "    </tr>\n",
       "    <tr>\n",
       "      <th>2845339</th>\n",
       "      <td>1</td>\n",
       "      <td>0</td>\n",
       "      <td>0</td>\n",
       "      <td>0</td>\n",
       "      <td>1</td>\n",
       "      <td>0</td>\n",
       "      <td>0</td>\n",
       "      <td>0</td>\n",
       "      <td>0</td>\n",
       "      <td>0</td>\n",
       "      <td>0</td>\n",
       "      <td>0</td>\n",
       "      <td>0</td>\n",
       "      <td>0</td>\n",
       "      <td>0</td>\n",
       "    </tr>\n",
       "    <tr>\n",
       "      <th>2845340</th>\n",
       "      <td>1</td>\n",
       "      <td>0</td>\n",
       "      <td>0</td>\n",
       "      <td>0</td>\n",
       "      <td>1</td>\n",
       "      <td>0</td>\n",
       "      <td>0</td>\n",
       "      <td>0</td>\n",
       "      <td>0</td>\n",
       "      <td>0</td>\n",
       "      <td>0</td>\n",
       "      <td>0</td>\n",
       "      <td>0</td>\n",
       "      <td>0</td>\n",
       "      <td>0</td>\n",
       "    </tr>\n",
       "    <tr>\n",
       "      <th>2845341</th>\n",
       "      <td>1</td>\n",
       "      <td>0</td>\n",
       "      <td>0</td>\n",
       "      <td>0</td>\n",
       "      <td>1</td>\n",
       "      <td>0</td>\n",
       "      <td>0</td>\n",
       "      <td>0</td>\n",
       "      <td>0</td>\n",
       "      <td>0</td>\n",
       "      <td>0</td>\n",
       "      <td>0</td>\n",
       "      <td>0</td>\n",
       "      <td>0</td>\n",
       "      <td>0</td>\n",
       "    </tr>\n",
       "  </tbody>\n",
       "</table>\n",
       "<p>2779831 rows × 15 columns</p>\n",
       "</div>"
      ],
      "text/plain": [
       "         Side_R  Timezone_US/Central  Timezone_US/Eastern  \\\n",
       "0             1                    0                    1   \n",
       "1             1                    0                    1   \n",
       "2             1                    0                    1   \n",
       "3             1                    0                    1   \n",
       "4             1                    0                    1   \n",
       "...         ...                  ...                  ...   \n",
       "2845337       1                    0                    0   \n",
       "2845338       1                    0                    0   \n",
       "2845339       1                    0                    0   \n",
       "2845340       1                    0                    0   \n",
       "2845341       1                    0                    0   \n",
       "\n",
       "         Timezone_US/Mountain  Timezone_US/Pacific  DayofWeek_Monday  \\\n",
       "0                           0                    0                 1   \n",
       "1                           0                    0                 1   \n",
       "2                           0                    0                 1   \n",
       "3                           0                    0                 1   \n",
       "4                           0                    0                 1   \n",
       "...                       ...                  ...               ...   \n",
       "2845337                     0                    1                 0   \n",
       "2845338                     0                    1                 0   \n",
       "2845339                     0                    1                 0   \n",
       "2845340                     0                    1                 0   \n",
       "2845341                     0                    1                 0   \n",
       "\n",
       "         DayofWeek_Saturday  DayofWeek_Sunday  DayofWeek_Thursday  \\\n",
       "0                         0                 0                   0   \n",
       "1                         0                 0                   0   \n",
       "2                         0                 0                   0   \n",
       "3                         0                 0                   0   \n",
       "4                         0                 0                   0   \n",
       "...                     ...               ...                 ...   \n",
       "2845337                   0                 0                   0   \n",
       "2845338                   0                 0                   0   \n",
       "2845339                   0                 0                   0   \n",
       "2845340                   0                 0                   0   \n",
       "2845341                   0                 0                   0   \n",
       "\n",
       "         DayofWeek_Tuesday  DayofWeek_Wednesday  Sunrise_Sunset_Night  \\\n",
       "0                        0                    0                     1   \n",
       "1                        0                    0                     1   \n",
       "2                        0                    0                     1   \n",
       "3                        0                    0                     1   \n",
       "4                        0                    0                     0   \n",
       "...                    ...                  ...                   ...   \n",
       "2845337                  0                    0                     0   \n",
       "2845338                  0                    0                     0   \n",
       "2845339                  0                    0                     0   \n",
       "2845340                  0                    0                     0   \n",
       "2845341                  0                    0                     0   \n",
       "\n",
       "         Civil_Twilight_Night  Nautical_Twilight_Night  \\\n",
       "0                           1                        1   \n",
       "1                           1                        1   \n",
       "2                           1                        1   \n",
       "3                           1                        0   \n",
       "4                           0                        0   \n",
       "...                       ...                      ...   \n",
       "2845337                     0                        0   \n",
       "2845338                     0                        0   \n",
       "2845339                     0                        0   \n",
       "2845340                     0                        0   \n",
       "2845341                     0                        0   \n",
       "\n",
       "         Astronomical_Twilight_Night  \n",
       "0                                  1  \n",
       "1                                  1  \n",
       "2                                  0  \n",
       "3                                  0  \n",
       "4                                  0  \n",
       "...                              ...  \n",
       "2845337                            0  \n",
       "2845338                            0  \n",
       "2845339                            0  \n",
       "2845340                            0  \n",
       "2845341                            0  \n",
       "\n",
       "[2779831 rows x 15 columns]"
      ]
     },
     "execution_count": 54,
     "metadata": {},
     "output_type": "execute_result"
    }
   ],
   "source": [
    "cat = ['Side','Timezone','DayofWeek','Sunrise_Sunset','Civil_Twilight','Nautical_Twilight','Astronomical_Twilight']\n",
    "pd.get_dummies(df[cat], drop_first=True)"
   ]
  },
  {
   "cell_type": "code",
   "execution_count": 55,
   "id": "af2876ac",
   "metadata": {},
   "outputs": [],
   "source": [
    "cat = ['Side','Timezone','DayofWeek','Sunrise_Sunset','Civil_Twilight','Nautical_Twilight','Astronomical_Twilight']\n",
    "df[cat] = df[cat].astype('category')\n",
    "df=pd.concat([df, pd.get_dummies(df[cat], drop_first=True)], axis=1)"
   ]
  },
  {
   "cell_type": "code",
   "execution_count": 57,
   "id": "ef787c42",
   "metadata": {},
   "outputs": [
    {
     "data": {
      "text/plain": [
       "Index(['Severity', 'Start_Time', 'Start_Lat', 'Start_Lng', 'Distance(mi)',\n",
       "       'Street', 'Side', 'City', 'County', 'State', 'Timezone',\n",
       "       'Temperature(F)', 'Humidity(%)', 'Pressure(in)', 'Visibility(mi)',\n",
       "       'Wind_Speed(mph)', 'Precipitation(in)', 'Weather_Condition', 'Amenity',\n",
       "       'Bump', 'Crossing', 'Give_Way', 'Junction', 'No_Exit', 'Railway',\n",
       "       'Roundabout', 'Station', 'Stop', 'Traffic_Calming', 'Traffic_Signal',\n",
       "       'Sunrise_Sunset', 'Civil_Twilight', 'Nautical_Twilight',\n",
       "       'Astronomical_Twilight', 'Year', 'Month', 'Day', 'Hour', 'DayofWeek',\n",
       "       'Time_Diff', 'Clear', 'Cloud', 'Rain', 'Heavy_Rain', 'Snow',\n",
       "       'Heavy_Snow', 'Fog', 'Side_R', 'Timezone_US/Central',\n",
       "       'Timezone_US/Eastern', 'Timezone_US/Mountain', 'Timezone_US/Pacific',\n",
       "       'DayofWeek_Monday', 'DayofWeek_Saturday', 'DayofWeek_Sunday',\n",
       "       'DayofWeek_Thursday', 'DayofWeek_Tuesday', 'DayofWeek_Wednesday',\n",
       "       'Sunrise_Sunset_Night', 'Civil_Twilight_Night',\n",
       "       'Nautical_Twilight_Night', 'Astronomical_Twilight_Night'],\n",
       "      dtype='object')"
      ]
     },
     "execution_count": 57,
     "metadata": {},
     "output_type": "execute_result"
    }
   ],
   "source": [
    "df.columns"
   ]
  },
  {
   "cell_type": "code",
   "execution_count": 58,
   "id": "b1ac7b6d",
   "metadata": {},
   "outputs": [
    {
     "name": "stdout",
     "output_type": "stream",
     "text": [
      "<class 'pandas.core.frame.DataFrame'>\n",
      "Int64Index: 2779831 entries, 0 to 2845341\n",
      "Data columns (total 62 columns):\n",
      " #   Column                       Dtype         \n",
      "---  ------                       -----         \n",
      " 0   Severity                     int64         \n",
      " 1   Start_Time                   datetime64[ns]\n",
      " 2   Start_Lat                    float64       \n",
      " 3   Start_Lng                    float64       \n",
      " 4   Distance(mi)                 float64       \n",
      " 5   Street                       object        \n",
      " 6   Side                         category      \n",
      " 7   City                         object        \n",
      " 8   County                       object        \n",
      " 9   State                        object        \n",
      " 10  Timezone                     category      \n",
      " 11  Temperature(F)               float64       \n",
      " 12  Humidity(%)                  float64       \n",
      " 13  Pressure(in)                 float64       \n",
      " 14  Visibility(mi)               float64       \n",
      " 15  Wind_Speed(mph)              float64       \n",
      " 16  Precipitation(in)            float64       \n",
      " 17  Weather_Condition            object        \n",
      " 18  Amenity                      bool          \n",
      " 19  Bump                         bool          \n",
      " 20  Crossing                     bool          \n",
      " 21  Give_Way                     bool          \n",
      " 22  Junction                     bool          \n",
      " 23  No_Exit                      bool          \n",
      " 24  Railway                      bool          \n",
      " 25  Roundabout                   bool          \n",
      " 26  Station                      bool          \n",
      " 27  Stop                         bool          \n",
      " 28  Traffic_Calming              bool          \n",
      " 29  Traffic_Signal               bool          \n",
      " 30  Sunrise_Sunset               category      \n",
      " 31  Civil_Twilight               category      \n",
      " 32  Nautical_Twilight            category      \n",
      " 33  Astronomical_Twilight        category      \n",
      " 34  Year                         int64         \n",
      " 35  Month                        int64         \n",
      " 36  Day                          int64         \n",
      " 37  Hour                         int64         \n",
      " 38  DayofWeek                    category      \n",
      " 39  Time_Diff                    float64       \n",
      " 40  Clear                        bool          \n",
      " 41  Cloud                        bool          \n",
      " 42  Rain                         bool          \n",
      " 43  Heavy_Rain                   bool          \n",
      " 44  Snow                         bool          \n",
      " 45  Heavy_Snow                   bool          \n",
      " 46  Fog                          bool          \n",
      " 47  Side_R                       uint8         \n",
      " 48  Timezone_US/Central          uint8         \n",
      " 49  Timezone_US/Eastern          uint8         \n",
      " 50  Timezone_US/Mountain         uint8         \n",
      " 51  Timezone_US/Pacific          uint8         \n",
      " 52  DayofWeek_Monday             uint8         \n",
      " 53  DayofWeek_Saturday           uint8         \n",
      " 54  DayofWeek_Sunday             uint8         \n",
      " 55  DayofWeek_Thursday           uint8         \n",
      " 56  DayofWeek_Tuesday            uint8         \n",
      " 57  DayofWeek_Wednesday          uint8         \n",
      " 58  Sunrise_Sunset_Night         uint8         \n",
      " 59  Civil_Twilight_Night         uint8         \n",
      " 60  Nautical_Twilight_Night      uint8         \n",
      " 61  Astronomical_Twilight_Night  uint8         \n",
      "dtypes: bool(19), category(7), datetime64[ns](1), float64(10), int64(5), object(5), uint8(15)\n",
      "memory usage: 575.3+ MB\n"
     ]
    }
   ],
   "source": [
    "df.info()"
   ]
  },
  {
   "cell_type": "markdown",
   "id": "087cc356",
   "metadata": {},
   "source": [
    "## Frequency Encoding"
   ]
  },
  {
   "cell_type": "code",
   "execution_count": 59,
   "id": "6c716792",
   "metadata": {},
   "outputs": [],
   "source": [
    "for col in ['Street','City','County','State']:\n",
    "    fe = df.groupby([col]).size()/len(df)\n",
    "    df.loc[:,col + '_freq'] = df[col].map(fe)"
   ]
  },
  {
   "cell_type": "code",
   "execution_count": 60,
   "id": "5770edf8",
   "metadata": {},
   "outputs": [
    {
     "name": "stdout",
     "output_type": "stream",
     "text": [
      "<class 'pandas.core.frame.DataFrame'>\n",
      "Int64Index: 2779831 entries, 0 to 2845341\n",
      "Data columns (total 66 columns):\n",
      " #   Column                       Dtype         \n",
      "---  ------                       -----         \n",
      " 0   Severity                     int64         \n",
      " 1   Start_Time                   datetime64[ns]\n",
      " 2   Start_Lat                    float64       \n",
      " 3   Start_Lng                    float64       \n",
      " 4   Distance(mi)                 float64       \n",
      " 5   Street                       object        \n",
      " 6   Side                         category      \n",
      " 7   City                         object        \n",
      " 8   County                       object        \n",
      " 9   State                        object        \n",
      " 10  Timezone                     category      \n",
      " 11  Temperature(F)               float64       \n",
      " 12  Humidity(%)                  float64       \n",
      " 13  Pressure(in)                 float64       \n",
      " 14  Visibility(mi)               float64       \n",
      " 15  Wind_Speed(mph)              float64       \n",
      " 16  Precipitation(in)            float64       \n",
      " 17  Weather_Condition            object        \n",
      " 18  Amenity                      bool          \n",
      " 19  Bump                         bool          \n",
      " 20  Crossing                     bool          \n",
      " 21  Give_Way                     bool          \n",
      " 22  Junction                     bool          \n",
      " 23  No_Exit                      bool          \n",
      " 24  Railway                      bool          \n",
      " 25  Roundabout                   bool          \n",
      " 26  Station                      bool          \n",
      " 27  Stop                         bool          \n",
      " 28  Traffic_Calming              bool          \n",
      " 29  Traffic_Signal               bool          \n",
      " 30  Sunrise_Sunset               category      \n",
      " 31  Civil_Twilight               category      \n",
      " 32  Nautical_Twilight            category      \n",
      " 33  Astronomical_Twilight        category      \n",
      " 34  Year                         int64         \n",
      " 35  Month                        int64         \n",
      " 36  Day                          int64         \n",
      " 37  Hour                         int64         \n",
      " 38  DayofWeek                    category      \n",
      " 39  Time_Diff                    float64       \n",
      " 40  Clear                        bool          \n",
      " 41  Cloud                        bool          \n",
      " 42  Rain                         bool          \n",
      " 43  Heavy_Rain                   bool          \n",
      " 44  Snow                         bool          \n",
      " 45  Heavy_Snow                   bool          \n",
      " 46  Fog                          bool          \n",
      " 47  Side_R                       uint8         \n",
      " 48  Timezone_US/Central          uint8         \n",
      " 49  Timezone_US/Eastern          uint8         \n",
      " 50  Timezone_US/Mountain         uint8         \n",
      " 51  Timezone_US/Pacific          uint8         \n",
      " 52  DayofWeek_Monday             uint8         \n",
      " 53  DayofWeek_Saturday           uint8         \n",
      " 54  DayofWeek_Sunday             uint8         \n",
      " 55  DayofWeek_Thursday           uint8         \n",
      " 56  DayofWeek_Tuesday            uint8         \n",
      " 57  DayofWeek_Wednesday          uint8         \n",
      " 58  Sunrise_Sunset_Night         uint8         \n",
      " 59  Civil_Twilight_Night         uint8         \n",
      " 60  Nautical_Twilight_Night      uint8         \n",
      " 61  Astronomical_Twilight_Night  uint8         \n",
      " 62  Street_freq                  float64       \n",
      " 63  City_freq                    float64       \n",
      " 64  County_freq                  float64       \n",
      " 65  State_freq                   float64       \n",
      "dtypes: bool(19), category(7), datetime64[ns](1), float64(14), int64(5), object(5), uint8(15)\n",
      "memory usage: 660.1+ MB\n"
     ]
    }
   ],
   "source": [
    "df.info()"
   ]
  },
  {
   "cell_type": "code",
   "execution_count": 62,
   "id": "9a6aead2",
   "metadata": {},
   "outputs": [],
   "source": [
    "df.to_csv('data_processed.csv', index=False)"
   ]
  }
 ],
 "metadata": {
  "kernelspec": {
   "display_name": "Python 3",
   "language": "python",
   "name": "python3"
  },
  "language_info": {
   "codemirror_mode": {
    "name": "ipython",
    "version": 3
   },
   "file_extension": ".py",
   "mimetype": "text/x-python",
   "name": "python",
   "nbconvert_exporter": "python",
   "pygments_lexer": "ipython3",
   "version": "3.8.8"
  }
 },
 "nbformat": 4,
 "nbformat_minor": 5
}
